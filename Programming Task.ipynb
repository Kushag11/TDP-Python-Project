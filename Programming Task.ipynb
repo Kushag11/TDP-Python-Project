{
 "cells": [
  {
   "cell_type": "markdown",
   "id": "e56684c8",
   "metadata": {},
   "source": [
    " Task1 : Calculate Area with Conditions\n"
   ]
  },
  {
   "cell_type": "code",
   "execution_count": 1,
   "id": "8de1545f",
   "metadata": {},
   "outputs": [
    {
     "name": "stdout",
     "output_type": "stream",
     "text": [
      "Enter the length: 4\n",
      "Enter the width: 5\n"
     ]
    },
    {
     "data": {
      "text/plain": [
       "20"
      ]
     },
     "execution_count": 1,
     "metadata": {},
     "output_type": "execute_result"
    }
   ],
   "source": [
    "def calculate_area(a,b):\n",
    "    if a == b :\n",
    "        return \"This is a Square\"\n",
    "    else:\n",
    "        return a*b\n",
    "\n",
    "Length = int(input(\"Enter the length: \"))\n",
    "Width  = int(input(\"Enter the width: \"))\n",
    "calculate_area(Length,Width)\n",
    "    "
   ]
  },
  {
   "cell_type": "markdown",
   "id": "01f48708",
   "metadata": {},
   "source": [
    " Task2 : Generate Fibonacci series"
   ]
  },
  {
   "cell_type": "code",
   "execution_count": 18,
   "id": "574e16e9",
   "metadata": {},
   "outputs": [
    {
     "name": "stdout",
     "output_type": "stream",
     "text": [
      "Enter the number: 4\n"
     ]
    },
    {
     "data": {
      "text/plain": [
       "[0, 1, 1, 2]"
      ]
     },
     "execution_count": 18,
     "metadata": {},
     "output_type": "execute_result"
    }
   ],
   "source": [
    "def fibonacci(n):\n",
    "    f = [0,1]\n",
    "    for i in range(2,n):\n",
    "        f.append(f[i-1] + f[i-2])\n",
    "        \n",
    "    return f\n",
    "\n",
    "x = int(input(\"Enter the number: \"))\n",
    "fibonacci(x)"
   ]
  },
  {
   "cell_type": "code",
   "execution_count": null,
   "id": "e8e1c2df",
   "metadata": {},
   "outputs": [],
   "source": []
  }
 ],
 "metadata": {
  "kernelspec": {
   "display_name": "Python 3 (ipykernel)",
   "language": "python",
   "name": "python3"
  },
  "language_info": {
   "codemirror_mode": {
    "name": "ipython",
    "version": 3
   },
   "file_extension": ".py",
   "mimetype": "text/x-python",
   "name": "python",
   "nbconvert_exporter": "python",
   "pygments_lexer": "ipython3",
   "version": "3.9.13"
  }
 },
 "nbformat": 4,
 "nbformat_minor": 5
}
